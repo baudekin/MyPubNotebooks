{
 "cells": [
  {
   "cell_type": "code",
   "execution_count": 37,
   "id": "0944e57b-474d-4a05-ab46-6f8629a0c9f4",
   "metadata": {},
   "outputs": [
    {
     "name": "stdout",
     "output_type": "stream",
     "text": [
      "\u001b[36m\u001b[1mProject\u001b[22m\u001b[39m MyLinearAlgerbra v0.1.0\n",
      "\u001b[32m\u001b[1mStatus\u001b[22m\u001b[39m `~/JuliaProjects/MyPubNotebooks/MyLinearAlgerbra/Project.toml`\n",
      "  \u001b[90m[7073ff75] \u001b[39mIJulia v1.24.2\n",
      "  \u001b[90m[b964fa9f] \u001b[39mLaTeXStrings v1.3.1\n",
      "  \u001b[90m[2b0e0bc5] \u001b[39mLanguageServer v4.4.0\n",
      "  \u001b[90m[91a5bcdd] \u001b[39mPlots v1.39.0\n",
      "  \u001b[90m[37e2e46d] \u001b[39mLinearAlgebra\n"
     ]
    }
   ],
   "source": [
    "Pkg.status()"
   ]
  },
  {
   "cell_type": "code",
   "execution_count": 23,
   "id": "3da2a022-1fa7-43ca-8d3c-c626fd29df08",
   "metadata": {},
   "outputs": [],
   "source": [
    "using LinearAlgebra\n",
    "using LaTeXStrings\n",
    "using Plots\n",
    "using LinearAlgebra"
   ]
  },
  {
   "cell_type": "code",
   "execution_count": 29,
   "id": "7808a93e-0deb-490e-80f1-562fbde8de8b",
   "metadata": {},
   "outputs": [
    {
     "data": {
      "text/plain": [
       "3×3 Matrix{Int64}:\n",
       " 1  2  3\n",
       " 4  1  6\n",
       " 7  8  1"
      ]
     },
     "execution_count": 29,
     "metadata": {},
     "output_type": "execute_result"
    }
   ],
   "source": [
    "A = [1 2 3; 4 1 6; 7 8 1]"
   ]
  },
  {
   "cell_type": "code",
   "execution_count": 38,
   "id": "28fa1a11-da4f-438e-ba34-f25ad2d7a33a",
   "metadata": {},
   "outputs": [
    {
     "data": {
      "text/plain": [
       "3×3 Matrix{Float64}:\n",
       " -0.451923   0.211538    0.0865385\n",
       "  0.365385  -0.192308    0.0576923\n",
       "  0.240385   0.0576923  -0.0673077"
      ]
     },
     "execution_count": 38,
     "metadata": {},
     "output_type": "execute_result"
    }
   ],
   "source": [
    "inv(A)"
   ]
  },
  {
   "cell_type": "code",
   "execution_count": 40,
   "id": "514c531d-410f-4c4b-9ed8-dd763872233f",
   "metadata": {},
   "outputs": [
    {
     "data": {
      "text/plain": [
       "3×3 adjoint(::Matrix{Int64}) with eltype Int64:\n",
       " 1  4  7\n",
       " 2  1  8\n",
       " 3  6  1"
      ]
     },
     "execution_count": 40,
     "metadata": {},
     "output_type": "execute_result"
    }
   ],
   "source": [
    "A'"
   ]
  },
  {
   "cell_type": "code",
   "execution_count": 9,
   "id": "797e4e5d-7361-4a4d-b95e-ecdf7a0c749f",
   "metadata": {},
   "outputs": [
    {
     "data": {
      "text/plain": [
       "hello (generic function with 1 method)"
      ]
     },
     "execution_count": 9,
     "metadata": {},
     "output_type": "execute_result"
    }
   ],
   "source": [
    "α = function hello() println(\"hello\") end"
   ]
  },
  {
   "cell_type": "code",
   "execution_count": 10,
   "id": "26e1dc61-3433-4d05-8769-2f4df8e643bf",
   "metadata": {},
   "outputs": [
    {
     "data": {
      "text/plain": [
       "hello (generic function with 1 method)"
      ]
     },
     "execution_count": 10,
     "metadata": {},
     "output_type": "execute_result"
    }
   ],
   "source": [
    "α"
   ]
  },
  {
   "cell_type": "code",
   "execution_count": 11,
   "id": "46d27a46-b7a7-4e1e-b3d8-4d9375677261",
   "metadata": {},
   "outputs": [
    {
     "name": "stdout",
     "output_type": "stream",
     "text": [
      "hello\n"
     ]
    }
   ],
   "source": [
    "α()"
   ]
  },
  {
   "cell_type": "code",
   "execution_count": 3,
   "id": "d5a44e67-0dd9-4820-9afa-08fc5a8a2159",
   "metadata": {},
   "outputs": [
    {
     "data": {
      "text/plain": [
       "4×6 Matrix{Int64}:\n",
       " 30  89  31  39  87   9\n",
       " 21  58  30  55  56  98\n",
       " 60  49  79  23  66  63\n",
       " 53  66  49  65  87  24"
      ]
     },
     "execution_count": 3,
     "metadata": {},
     "output_type": "execute_result"
    }
   ],
   "source": [
    "A = rand(1:100, 4, 6)"
   ]
  },
  {
   "cell_type": "code",
   "execution_count": 4,
   "id": "cef69141-9e28-4320-947d-ebd862f82e03",
   "metadata": {},
   "outputs": [
    {
     "data": {
      "text/plain": [
       "4×6 Matrix{Int64}:\n",
       " 35  35  87  72  68  61\n",
       " 56  94  29  75  23  85\n",
       " 75   4  11  54  21  14\n",
       " 62   8  77  55  83  92"
      ]
     },
     "execution_count": 4,
     "metadata": {},
     "output_type": "execute_result"
    }
   ],
   "source": [
    "B = rand(1:100, 4, 6)"
   ]
  },
  {
   "cell_type": "code",
   "execution_count": 21,
   "id": "90bc7867-56a6-4893-a6b5-5ba054b8f596",
   "metadata": {},
   "outputs": [
    {
     "data": {
      "text/plain": [
       "4-element Vector{Int64}:\n",
       " 30\n",
       " 21\n",
       " 60\n",
       " 53"
      ]
     },
     "execution_count": 21,
     "metadata": {},
     "output_type": "execute_result"
    }
   ],
   "source": [
    " ac = [A[i][1] for i=1:4]"
   ]
  },
  {
   "cell_type": "code",
   "execution_count": null,
   "id": "48dad4aa-3dea-4932-a9af-17fb501bda5b",
   "metadata": {},
   "outputs": [],
   "source": []
  },
  {
   "cell_type": "code",
   "execution_count": 20,
   "id": "98eff755-e1ee-4df4-bbd4-6f66459da25c",
   "metadata": {},
   "outputs": [
    {
     "data": {
      "text/plain": [
       "4-element Vector{Int64}:\n",
       " 35\n",
       " 56\n",
       " 75\n",
       " 62"
      ]
     },
     "execution_count": 20,
     "metadata": {},
     "output_type": "execute_result"
    }
   ],
   "source": [
    "bc = [B[i][1] for i=1:4]"
   ]
  },
  {
   "cell_type": "code",
   "execution_count": 25,
   "id": "bcd00909-6698-4811-beed-fad0f0fcfd39",
   "metadata": {},
   "outputs": [
    {
     "data": {
      "text/plain": [
       "10012"
      ]
     },
     "execution_count": 25,
     "metadata": {},
     "output_type": "execute_result"
    }
   ],
   "source": [
    "ac ⋅ bc"
   ]
  },
  {
   "cell_type": "code",
   "execution_count": 26,
   "id": "ca1aaaff-e69b-49fd-8b31-b4d6e808bf1c",
   "metadata": {},
   "outputs": [
    {
     "data": {
      "text/plain": [
       "10012"
      ]
     },
     "execution_count": 26,
     "metadata": {},
     "output_type": "execute_result"
    }
   ],
   "source": [
    "bc ⋅ ac"
   ]
  },
  {
   "cell_type": "code",
   "execution_count": 28,
   "id": "60d4e690-c81d-4382-a0b9-0f64100666c1",
   "metadata": {},
   "outputs": [
    {
     "data": {
      "text/plain": [
       "3×1 adjoint(::Matrix{Int64}) with eltype Int64:\n",
       " 1\n",
       " 2\n",
       " 3"
      ]
     },
     "execution_count": 28,
     "metadata": {},
     "output_type": "execute_result"
    }
   ],
   "source": [
    "w = [1 2 3]'"
   ]
  },
  {
   "cell_type": "code",
   "execution_count": 29,
   "id": "28542ec6-3ccf-47fd-b326-2cc673b15028",
   "metadata": {},
   "outputs": [
    {
     "data": {
      "text/plain": [
       "3×1 adjoint(::Matrix{Int64}) with eltype Int64:\n",
       " 4\n",
       " 5\n",
       " 6"
      ]
     },
     "execution_count": 29,
     "metadata": {},
     "output_type": "execute_result"
    }
   ],
   "source": [
    "v = [4 5 6]'"
   ]
  },
  {
   "cell_type": "code",
   "execution_count": 30,
   "id": "ea92609c-8566-444d-bf54-18d7677d7ba7",
   "metadata": {},
   "outputs": [
    {
     "data": {
      "text/plain": [
       "32"
      ]
     },
     "execution_count": 30,
     "metadata": {},
     "output_type": "execute_result"
    }
   ],
   "source": [
    "w ⋅ v"
   ]
  },
  {
   "cell_type": "code",
   "execution_count": 31,
   "id": "95fb92ee-cba7-4c3e-8088-783317133e49",
   "metadata": {},
   "outputs": [
    {
     "data": {
      "text/plain": [
       "32"
      ]
     },
     "execution_count": 31,
     "metadata": {},
     "output_type": "execute_result"
    }
   ],
   "source": [
    "v ⋅ w"
   ]
  },
  {
   "cell_type": "code",
   "execution_count": 32,
   "id": "bd6626b5-8497-4b4f-9094-cf93d83346cc",
   "metadata": {},
   "outputs": [
    {
     "data": {
      "text/plain": [
       "2×3 Matrix{Int64}:\n",
       " 1  2  3\n",
       " 4  5  6"
      ]
     },
     "execution_count": 32,
     "metadata": {},
     "output_type": "execute_result"
    }
   ],
   "source": [
    "c = [ 1 2 3; 4 5 6]"
   ]
  },
  {
   "cell_type": "code",
   "execution_count": 33,
   "id": "eb508070-943a-4c12-9b8a-aa8201308fb3",
   "metadata": {},
   "outputs": [
    {
     "data": {
      "text/plain": [
       "2×3 Matrix{Int64}:\n",
       " 1  2  3\n",
       " 4  5  6"
      ]
     },
     "execution_count": 33,
     "metadata": {},
     "output_type": "execute_result"
    }
   ],
   "source": [
    "d = [ 1 2 3; 4 5 6]"
   ]
  },
  {
   "cell_type": "code",
   "execution_count": 34,
   "id": "bf46483c-794b-4e8b-acd7-420aa87acfaa",
   "metadata": {},
   "outputs": [
    {
     "data": {
      "text/plain": [
       "86"
      ]
     },
     "execution_count": 34,
     "metadata": {},
     "output_type": "execute_result"
    }
   ],
   "source": [
    "d ⋅ c'"
   ]
  },
  {
   "cell_type": "code",
   "execution_count": 35,
   "id": "c536fd96-742d-4924-aef1-554c194d4121",
   "metadata": {},
   "outputs": [
    {
     "data": {
      "text/plain": [
       "86"
      ]
     },
     "execution_count": 35,
     "metadata": {},
     "output_type": "execute_result"
    }
   ],
   "source": [
    "c ⋅ d'"
   ]
  },
  {
   "cell_type": "code",
   "execution_count": 42,
   "id": "12774e58-1399-4303-a259-9debdc5b19ac",
   "metadata": {},
   "outputs": [
    {
     "data": {
      "text/plain": [
       "mydot (generic function with 1 method)"
      ]
     },
     "execution_count": 42,
     "metadata": {},
     "output_type": "execute_result"
    }
   ],
   "source": [
    "function mydot(a,b)\n",
    "    a_col_num = size(a, 1)\n",
    "    a_row_num = size(a, 2)\n",
    "    b_col_num = size(b, 1)\n",
    "    b_row_num = size(b, 2)\n",
    "    if (a_col_num != b_col_num) || (a_row_num != b_row_num) \n",
    "        println(\"ERROR: Dot product can not be taken\")\n",
    "        println(a_col_num, b_col_num, a_row_num, b_row_num)\n",
    "    else if (a_col_num > 1) \n",
    "            for j = 0:a_col_num\n",
    "                for i = 0:a_row_num\n",
    "                    c = a[i,j] * b[i,j]\n",
    "                end\n",
    "            end\n",
    "        else\n",
    "            for i = 0:a_row_num\n",
    "                c = \n",
    "    end\n",
    "    \n",
    "end"
   ]
  },
  {
   "cell_type": "code",
   "execution_count": 44,
   "id": "d8e82251-2873-442a-90a5-f98833e8dfd9",
   "metadata": {},
   "outputs": [],
   "source": [
    "mydot(d,c)"
   ]
  },
  {
   "cell_type": "code",
   "execution_count": null,
   "id": "dd2eaffd-8bc5-4ebb-8eaf-00be8eeacd62",
   "metadata": {},
   "outputs": [],
   "source": []
  }
 ],
 "metadata": {
  "kernelspec": {
   "display_name": "MyLinearAlgerbra 1.9.4",
   "language": "julia",
   "name": "mylinearalgerbra-1.9"
  },
  "language_info": {
   "file_extension": ".jl",
   "mimetype": "application/julia",
   "name": "julia",
   "version": "1.9.4"
  }
 },
 "nbformat": 4,
 "nbformat_minor": 5
}
